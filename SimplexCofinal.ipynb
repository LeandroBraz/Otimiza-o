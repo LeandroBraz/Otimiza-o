{
 "cells": [
  {
   "cell_type": "code",
   "execution_count": 3,
   "metadata": {},
   "outputs": [],
   "source": [
    "import pulp as pulp\n",
    "from json import load\n",
    "from itertools import product\n"
   ]
  },
  {
   "cell_type": "code",
   "execution_count": 19,
   "metadata": {},
   "outputs": [],
   "source": [
    "a= 1500\n",
    "b= 1200"
   ]
  },
  {
   "cell_type": "code",
   "execution_count": 23,
   "metadata": {},
   "outputs": [
    {
     "name": "stdout",
     "output_type": "stream",
     "text": [
      "Print1\n"
     ]
    }
   ],
   "source": [
    "print(\"Print1\")\n",
    "\n",
    "def main(a, b):\n",
    "\n",
    "    \n",
    "    x = pulp.LpVariable(\"x\",  lowBound=0, cat='Integer')     # Variável para o cálculo da quantidade\n",
    "    y = pulp.LpVariable(\"y\", lowBound=0, cat='Integer')    # Variável para o cálculo da quantidade do lado b no eixo x\n",
    "    \n",
    "    print(\"Print1\")\n",
    "    \n",
    "    # Criando o problema\n",
    "    z = pulp.LpProblem(\"Quantidade\", pulp.LpMinimize)\n",
    "    \n",
    "    # Função Objetivo\n",
    "    z += a*x1 + b*y1\n",
    "    \n",
    "    print(\"Print2\")\n",
    "    \n",
    "    # Restrições\n",
    "    \n",
    "    print(\"Print3\")\n",
    "    \n",
    "    z += 40*x + 100*y >=1000\n",
    "    z += 150*x + 60*y >=2000\n",
    "    z += 3*x + 8*y >=50\n",
    "    \n",
    "    print(\"Print 4\")\n",
    "    \n",
    "    z.solve()\n",
    "    \n",
    "    \n",
    "    print(\"Print 5\")\n",
    "    \n",
    "    val_x = x.value()\n",
    "   \n",
    "    \n",
    "    print(\"Print %i\" % val_x)\n",
    "    \n",
    "    \n",
    "    \n",
    "    main(a, b)"
   ]
  },
  {
   "cell_type": "code",
   "execution_count": null,
   "metadata": {},
   "outputs": [],
   "source": []
  }
 ],
 "metadata": {
  "kernelspec": {
   "display_name": "Python 3",
   "language": "python",
   "name": "python3"
  },
  "language_info": {
   "codemirror_mode": {
    "name": "ipython",
    "version": 3
   },
   "file_extension": ".py",
   "mimetype": "text/x-python",
   "name": "python",
   "nbconvert_exporter": "python",
   "pygments_lexer": "ipython3",
   "version": "3.7.3"
  }
 },
 "nbformat": 4,
 "nbformat_minor": 2
}
