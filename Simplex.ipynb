{
 "cells": [
  {
   "cell_type": "code",
   "execution_count": 5,
   "metadata": {},
   "outputs": [],
   "source": [
    "import pulp as pulp\n",
    "from json import load\n",
    "from itertools import product"
   ]
  },
  {
   "cell_type": "code",
   "execution_count": 2,
   "metadata": {},
   "outputs": [
    {
     "data": {
      "text/plain": [
       "\"'Uma Madeireira deseja obter 1000 kg de lenha, 2000 kg de madeira para móveis e \\n50 m² de casca de árvore, dispondo de carvalhos e pinheiros, sendo que o carvalho \\ngera 40 kg de lenha 150 kg de madeira e 3m² de casca aproveitável, o pinheiro \\n100 kg de lenha 60 de madeira e 8 m² de casca aproveitável, o problema deve minimizar\\nos custo sabendo que cada carvalho custa 1500,00 R$ para empresa e cada pinheiro custa 1200,00 R$.\\n\\n\\n\\nCarvalho = X 40 L, 50 M, 3 C  \\nPinheiro =  Y100 L, 60 M, 8 C\\n\\nFunção Objetivo\\nX = 1500\\nY =1200\\n Z > 1500.x + 1200.y\\n\\nRestrições \\n\\nR1 40X + 100Y >= 1000\\nR2 150X + 60Y>= 2000\\nR3 3X + 8Y >= 50\\nR4 X, Y   N\\nR5 X, Y >0\""
      ]
     },
     "execution_count": 2,
     "metadata": {},
     "output_type": "execute_result"
    }
   ],
   "source": [
    "''''Uma Madeireira deseja obter 1000 kg de lenha, 2000 kg de madeira para móveis e \n",
    "50 m² de casca de árvore, dispondo de carvalhos e pinheiros, sendo que o carvalho \n",
    "gera 40 kg de lenha 150 kg de madeira e 3m² de casca aproveitável, o pinheiro \n",
    "100 kg de lenha 60 de madeira e 8 m² de casca aproveitável, o problema deve minimizar\n",
    "os custo sabendo que cada carvalho custa 1500,00 R$ para empresa e cada pinheiro custa 1200,00 R$.\n",
    "\n",
    "\n",
    "\n",
    "Carvalho = X 40 L, 50 M, 3 C  \n",
    "Pinheiro =  Y100 L, 60 M, 8 C\n",
    "\n",
    "Função Objetivo\n",
    "X = 1500\n",
    "Y =1200\n",
    " Z > 1500.x + 1200.y\n",
    "\n",
    "Restrições \n",
    "\n",
    "R1 40X + 100Y >= 1000\n",
    "R2 150X + 60Y>= 2000\n",
    "R3 3X + 8Y >= 50\n",
    "R4 X, Y   N\n",
    "R5 X, Y >0'''\n"
   ]
  },
  {
   "cell_type": "code",
   "execution_count": 3,
   "metadata": {},
   "outputs": [],
   "source": [
    "a= 1500\n",
    "b= 1200"
   ]
  },
  {
   "cell_type": "code",
   "execution_count": 4,
   "metadata": {},
   "outputs": [
    {
     "name": "stdout",
     "output_type": "stream",
     "text": [
      "Print 11\n",
      "Print 6\n"
     ]
    }
   ],
   "source": [
    "\n",
    "x = pulp.LpVariable(\"x\",  lowBound=0, cat='Integer')     # Variável para o cálculo da quantidade\n",
    "y = pulp.LpVariable(\"y\", lowBound=0, cat='Integer')    # Variável para o cálculo da quantidade do lado b no eixo x\n",
    "    \n",
    "\n",
    "    \n",
    "# Criando o problema\n",
    "z = pulp.LpProblem(\"Quantidade\", pulp.LpMinimize)\n",
    "    \n",
    "# Função Objetivo\n",
    "z += a*x + b*y\n",
    "    \n",
    "\n",
    "    \n",
    "# Restrições\n",
    "    \n",
    "    \n",
    "z += 40*x + 100*y >=1000\n",
    "z += 150*x + 60*y >=2000\n",
    "z += 3*x + 8*y >=50\n",
    "    \n",
    "\n",
    "z.solve()\n",
    "    \n",
    "    \n",
    "val_x = x.value()\n",
    "val_y = y.value()\n",
    "\n",
    "\n",
    "print(\"Print %i\" % val_x)\n",
    "   \n",
    "print(\"Print %i\" % val_y)\n",
    "\n",
    "\n"
   ]
  }
 ],
 "metadata": {
  "kernelspec": {
   "display_name": "Python 3",
   "language": "python",
   "name": "python3"
  },
  "language_info": {
   "codemirror_mode": {
    "name": "ipython",
    "version": 3
   },
   "file_extension": ".py",
   "mimetype": "text/x-python",
   "name": "python",
   "nbconvert_exporter": "python",
   "pygments_lexer": "ipython3",
   "version": "3.7.3"
  }
 },
 "nbformat": 4,
 "nbformat_minor": 2
}
